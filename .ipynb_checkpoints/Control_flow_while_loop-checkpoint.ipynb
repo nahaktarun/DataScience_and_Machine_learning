{
 "cells": [
  {
   "cell_type": "markdown",
   "metadata": {},
   "source": [
    "# Python while loop\n",
    "\n",
    "The while loop in Python is used to iterate over a block of code as long as test expression condition is true"
   ]
  },
  {
   "cell_type": "markdown",
   "metadata": {},
   "source": [
    "## Syntex:\n"
   ]
  },
  {
   "cell_type": "markdown",
   "metadata": {},
   "source": [
    "while test_expression:"
   ]
  },
  {
   "cell_type": "markdown",
   "metadata": {},
   "source": [
    "    Body of while\n",
    "The body of the loop is entered only if the test_expression evaluates to True\n",
    "* After one iteration, the test expression is checked again.\n",
    "* This process continues until the test expression evalutates to False"
   ]
  },
  {
   "cell_type": "markdown",
   "metadata": {},
   "source": [
    " ## example\n",
    " "
   ]
  },
  {
   "cell_type": "code",
   "execution_count": 1,
   "metadata": {},
   "outputs": [
    {
     "name": "stdout",
     "output_type": "stream",
     "text": [
      "Product is: 12000000\n"
     ]
    }
   ],
   "source": [
    "#find product of all number present in a list\n",
    "lst = [10,20,30,40,50]\n",
    "product = 1\n",
    "index = 0\n",
    "\n",
    "while index < len(lst):\n",
    "    product *= lst[index]\n",
    "    index += 1\n",
    "print(\"Product is: {}\".format(product))"
   ]
  },
  {
   "cell_type": "markdown",
   "metadata": {},
   "source": [
    "## While Loop with else"
   ]
  },
  {
   "cell_type": "markdown",
   "metadata": {},
   "source": [
    "* Same as that of for loop, we can have an optional else block with while loop as well.\n",
    "* The else part is executed if the condition in the while loop evaluates to False. The while loop can be terminated with a break statement.\n",
    "* In such case, the else part is ignored. Hence,a while loop else part runs if no break occures and the condition is false."
   ]
  },
  {
   "cell_type": "code",
   "execution_count": 2,
   "metadata": {},
   "outputs": [
    {
     "name": "stdout",
     "output_type": "stream",
     "text": [
      "1\n",
      "2\n",
      "4\n",
      "no item left in the list\n"
     ]
    }
   ],
   "source": [
    "number = [1,2,4]\n",
    "index = 0\n",
    "while index <len(number):\n",
    "    print(number[index])\n",
    "    index += 1\n",
    "else:\n",
    "    print(\"no item left in the list\")"
   ]
  },
  {
   "cell_type": "code",
   "execution_count": 3,
   "metadata": {},
   "outputs": [
    {
     "name": "stdout",
     "output_type": "stream",
     "text": [
      "Enter a number: 25\n",
      "25 is divisble by 5\n",
      "25 is Not a prime number\n"
     ]
    }
   ],
   "source": [
    "#program to print the divisiblity of prime no or not\n",
    "num = int(input(\"Enter a number: \"))\n",
    "\n",
    "isDivisible = False\n",
    "i = 2\n",
    "while i<num:\n",
    "    if num % i == 0:\n",
    "        isDivisible = True;\n",
    "        print(\"{} is divisble by {}\".format(num,i))\n",
    "    i += 1\n",
    "if isDivisible:\n",
    "    print(\"{} is Not a prime number\".format(num))\n",
    "else:\n",
    "    print(\"{} is a prime number\".format(num))"
   ]
  },
  {
   "cell_type": "code",
   "execution_count": null,
   "metadata": {},
   "outputs": [],
   "source": []
  }
 ],
 "metadata": {
  "kernelspec": {
   "display_name": "Python 3",
   "language": "python",
   "name": "python3"
  },
  "language_info": {
   "codemirror_mode": {
    "name": "ipython",
    "version": 3
   },
   "file_extension": ".py",
   "mimetype": "text/x-python",
   "name": "python",
   "nbconvert_exporter": "python",
   "pygments_lexer": "ipython3",
   "version": "3.7.6"
  }
 },
 "nbformat": 4,
 "nbformat_minor": 4
}
