{
 "cells": [
  {
   "cell_type": "markdown",
   "metadata": {},
   "source": [
    "# Python input and output\n",
    "\n",
    "## Python Output\n",
    "\n",
    "We use the print() function to output data to the standard output device"
   ]
  },
  {
   "cell_type": "code",
   "execution_count": 1,
   "metadata": {},
   "outputs": [
    {
     "name": "stdout",
     "output_type": "stream",
     "text": [
      "Hello world\n"
     ]
    }
   ],
   "source": [
    "print(\"Hello world\")"
   ]
  },
  {
   "cell_type": "code",
   "execution_count": 5,
   "metadata": {},
   "outputs": [
    {
     "ename": "SyntaxError",
     "evalue": "Missing parentheses in call to 'print'. Did you mean print(a)? (<ipython-input-5-f9cde2819d67>, line 4)",
     "output_type": "error",
     "traceback": [
      "\u001b[1;36m  File \u001b[1;32m\"<ipython-input-5-f9cde2819d67>\"\u001b[1;36m, line \u001b[1;32m4\u001b[0m\n\u001b[1;33m    print a\u001b[0m\n\u001b[1;37m          ^\u001b[0m\n\u001b[1;31mSyntaxError\u001b[0m\u001b[1;31m:\u001b[0m Missing parentheses in call to 'print'. Did you mean print(a)?\n"
     ]
    }
   ],
   "source": [
    "a = 10\n",
    "print(\"The value of a is\",a)\n",
    "print(\"The value of a is \"+str(a))\n",
    "#print a use parenthesis which was not there in python above 3.0\n",
    "print(a)"
   ]
  },
  {
   "cell_type": "markdown",
   "metadata": {},
   "source": [
    "## Output Formatting"
   ]
  },
  {
   "cell_type": "code",
   "execution_count": 6,
   "metadata": {},
   "outputs": [
    {
     "name": "stdout",
     "output_type": "stream",
     "text": [
      "The valye of a is 10 and b is 20\n"
     ]
    }
   ],
   "source": [
    "a = 10; b = 20 # multiple statement in single line.\n",
    "print(\"The valye of a is {} and b is {}\".format(a,b)) #default"
   ]
  },
  {
   "cell_type": "code",
   "execution_count": 7,
   "metadata": {},
   "outputs": [
    {
     "name": "stdout",
     "output_type": "stream",
     "text": [
      "The value of b is 20 and a is 10\n"
     ]
    }
   ],
   "source": [
    "a = 10; b = 20 #multiple statement in single line\n",
    "print(\"The value of b is {1} and a is {0}\".format(a,b)) #specifying the position of format"
   ]
  },
  {
   "cell_type": "code",
   "execution_count": 9,
   "metadata": {},
   "outputs": [
    {
     "name": "stdout",
     "output_type": "stream",
     "text": [
      "Hello Tarun, Good Morning\n"
     ]
    }
   ],
   "source": [
    "# we can use keyword arguments to format the string\n",
    "print(\"Hello {name}, {greeting}\".format(name='Tarun',greeting='Good Morning'))"
   ]
  },
  {
   "cell_type": "code",
   "execution_count": 10,
   "metadata": {},
   "outputs": [
    {
     "name": "stdout",
     "output_type": "stream",
     "text": [
      "The story of Bill,Mandred, and tarun\n"
     ]
    }
   ],
   "source": [
    "# we can combine various type of arguments\n",
    "print(\"The story of {0},{1}, and {other}\".format(\"Bill\",'Mandred',other='tarun'))"
   ]
  },
  {
   "cell_type": "markdown",
   "metadata": {},
   "source": [
    "## Python input\n",
    "want to take the input from the user. in Python, we have the input() function to allow this."
   ]
  },
  {
   "cell_type": "code",
   "execution_count": 11,
   "metadata": {},
   "outputs": [
    {
     "name": "stdout",
     "output_type": "stream",
     "text": [
      "Enter a number: 20\n",
      "20\n"
     ]
    }
   ],
   "source": [
    "num = input(\"Enter a number: \")\n",
    "print(num)"
   ]
  },
  {
   "cell_type": "code",
   "execution_count": null,
   "metadata": {},
   "outputs": [],
   "source": []
  },
  {
   "cell_type": "markdown",
   "metadata": {},
   "source": [
    "# Operators\n",
    "Operators are special symbols in Python that carry out arthematic or logical computation. The value that the operators on is called the operand."
   ]
  },
  {
   "cell_type": "markdown",
   "metadata": {},
   "source": [
    "### Operator Types\n",
    "* Arthematic operators\n",
    "* comparison (Relational) Operators\n",
    "* Logical (Boolean) operators\n",
    "* Bitwise Operators\n",
    "* Assignment Operators\n",
    "* Special operators"
   ]
  },
  {
   "cell_type": "markdown",
   "metadata": {},
   "source": [
    "### 1. Arthematic Operators\n"
   ]
  },
  {
   "cell_type": "markdown",
   "metadata": {},
   "source": [
    "### all the operators used in arthematic operators"
   ]
  },
  {
   "cell_type": "code",
   "execution_count": 7,
   "metadata": {},
   "outputs": [
    {
     "name": "stdout",
     "output_type": "stream",
     "text": [
      "30\n",
      "10\n",
      "200\n",
      "0.5\n",
      "0\n",
      "0\n",
      "100000000000000000000\n"
     ]
    }
   ],
   "source": [
    "x , y = 10, 20\n",
    "\n",
    "#addtion\n",
    "print(x+y)\n",
    "#substraction\n",
    "print(y-x)\n",
    "#multiplications\n",
    "print(x*y)\n",
    "#division\n",
    "print(x/y)\n",
    "#modulo division\n",
    "print(y%x)\n",
    "#floor division\n",
    "print(x//y)\n",
    "#exponent\n",
    "print(x**y)"
   ]
  },
  {
   "cell_type": "markdown",
   "metadata": {},
   "source": [
    "## 2. Comparison operator\n",
    "comparison operators are used to compare values. It either returns True or False according to the condition.\n",
    " >, <,==, !=,>=,<= are comparision operators"
   ]
  },
  {
   "cell_type": "code",
   "execution_count": 12,
   "metadata": {},
   "outputs": [
    {
     "name": "stdout",
     "output_type": "stream",
     "text": [
      "True\n",
      "False\n",
      "True\n"
     ]
    }
   ],
   "source": [
    "a,b = 10,20\n",
    "#to check a is less than b\n",
    "print(a<b)\n",
    "#To checlk a is greater then b\n",
    "print(a>b)\n",
    "# To check a is not equal to b\n",
    "print(a!=b)\n"
   ]
  },
  {
   "cell_type": "markdown",
   "metadata": {},
   "source": [
    "## 3. Logical Operators\n",
    "Logical operators are and, or , not operators"
   ]
  },
  {
   "cell_type": "code",
   "execution_count": 14,
   "metadata": {},
   "outputs": [
    {
     "name": "stdout",
     "output_type": "stream",
     "text": [
      "False\n",
      "True\n"
     ]
    }
   ],
   "source": [
    "a, b = True, False\n",
    "print(a and b)\n",
    "print(a or b) "
   ]
  },
  {
   "cell_type": "markdown",
   "metadata": {},
   "source": [
    "## 4. Bitwise operators\n",
    "Bitwise operators act on operands as if they were string of binary digit. It operates bit by bit\n",
    " &, |,~,^,>>,<< are bitwise operators"
   ]
  },
  {
   "cell_type": "code",
   "execution_count": 16,
   "metadata": {},
   "outputs": [
    {
     "name": "stdout",
     "output_type": "stream",
     "text": [
      "0\n",
      "14\n"
     ]
    }
   ],
   "source": [
    " a,b =  10, 4\n",
    "print(a & b)\n",
    "print(a | b)\n",
    " "
   ]
  },
  {
   "cell_type": "markdown",
   "metadata": {},
   "source": [
    "## 5. Assignment Operators\n",
    "Assignment operators are used in Python to assign values to variable.\n",
    "a = 5 is a simple assignment operators that assigns the value 5 on the right to the variable a on the left.\n",
    "=, +=, -=,*=,/=,%=,//=,**==,&=,|=,^=,>>==,<<= arr assignment operators"
   ]
  },
  {
   "cell_type": "code",
   "execution_count": 17,
   "metadata": {},
   "outputs": [
    {
     "name": "stdout",
     "output_type": "stream",
     "text": [
      "20\n"
     ]
    }
   ],
   "source": [
    "a = 10\n",
    "a += 10\n",
    "print(a)"
   ]
  },
  {
   "cell_type": "markdown",
   "metadata": {},
   "source": [
    " ## 6. Special Operators\n",
    " ### Identity Operators\n",
    " is and is not are the identity operators in Python.\n",
    " They are used to check if two values (or variable) are located on the same part of the memory."
   ]
  },
  {
   "cell_type": "code",
   "execution_count": 18,
   "metadata": {},
   "outputs": [
    {
     "name": "stdout",
     "output_type": "stream",
     "text": [
      "True\n"
     ]
    }
   ],
   "source": [
    "a = 5\n",
    "b = 5\n",
    "print(a is b)"
   ]
  },
  {
   "cell_type": "markdown",
   "metadata": {},
   "source": [
    "### Membership Operators\n",
    "in and not in are the membership operators in Python.\n",
    "They are used to test wheather a value or variable is found in a sequence(string, list tuple, set and dictionary)"
   ]
  },
  {
   "cell_type": "code",
   "execution_count": 19,
   "metadata": {},
   "outputs": [
    {
     "name": "stdout",
     "output_type": "stream",
     "text": [
      "True\n"
     ]
    }
   ],
   "source": [
    "lst = [1,2,3,4]\n",
    "print(1 in lst)"
   ]
  },
  {
   "cell_type": "code",
   "execution_count": 21,
   "metadata": {},
   "outputs": [
    {
     "name": "stdout",
     "output_type": "stream",
     "text": [
      "True\n"
     ]
    }
   ],
   "source": [
    "d = {1:'a',2:'b'}\n",
    "print(1 in d) #it only works in keys not in values"
   ]
  },
  {
   "cell_type": "code",
   "execution_count": null,
   "metadata": {},
   "outputs": [],
   "source": []
  }
 ],
 "metadata": {
  "kernelspec": {
   "display_name": "Python 3",
   "language": "python",
   "name": "python3"
  },
  "language_info": {
   "codemirror_mode": {
    "name": "ipython",
    "version": 3
   },
   "file_extension": ".py",
   "mimetype": "text/x-python",
   "name": "python",
   "nbconvert_exporter": "python",
   "pygments_lexer": "ipython3",
   "version": "3.7.6"
  }
 },
 "nbformat": 4,
 "nbformat_minor": 4
}
